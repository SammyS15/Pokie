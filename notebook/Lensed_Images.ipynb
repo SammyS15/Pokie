{
 "cells": [
  {
   "cell_type": "code",
   "execution_count": 1,
   "id": "d6f7a448",
   "metadata": {},
   "outputs": [],
   "source": [
    "import numpy as np\n",
    "import matplotlib.pyplot as plt\n",
    "from matplotlib.backends.backend_pdf import PdfPages\n",
    "import torch\n",
    "from matplotlib.ticker import MaxNLocator\n",
    "from tqdm import tqdm\n",
    "\n",
    "import os\n",
    "import sys\n",
    "\n",
    "# Set up path to import from src\n",
    "project_root = os.path.abspath(os.path.join(os.getcwd(), \"..\"))\n",
    "src_path = os.path.join(project_root, \"src\")\n",
    "if src_path not in sys.path:\n",
    "    sys.path.append(src_path)\n",
    "\n",
    "# Import pokie from pokie.py\n",
    "from pokie import pokie, get_device"
   ]
  },
  {
   "cell_type": "markdown",
   "id": "dad4192f",
   "metadata": {},
   "source": [
    "# Section 3.4: Strong lensing background source reconstruction: detecting prior distribution shifts\n",
    "\n",
    "TO DO"
   ]
  },
  {
   "cell_type": "markdown",
   "id": "c60448b2",
   "metadata": {},
   "source": [
    "# Data Set Up"
   ]
  },
  {
   "cell_type": "code",
   "execution_count": 3,
   "id": "8ffe928f",
   "metadata": {},
   "outputs": [],
   "source": [
    "# load in the .pt files in Downloads/samples\n",
    "truth = torch.load('/Users/sammysharief/Downloads/samples/true.pt', map_location=torch.device('cpu'))\n",
    "posterior4 = torch.load('/Users/sammysharief/Downloads/samples/posterior4.pt', map_location=torch.device('cpu'))\n",
    "posterior3 = torch.load('/Users/sammysharief/Downloads/samples/posterior3.pt', map_location=torch.device('cpu'))\n",
    "posterior2 = torch.load('/Users/sammysharief/Downloads/samples/posterior2.pt', map_location=torch.device('cpu'))\n",
    "posterior1 = torch.load('/Users/sammysharief/Downloads/samples/posterior1.pt', map_location=torch.device('cpu'))\n",
    "posterior0 = torch.load('/Users/sammysharief/Downloads/samples/posterior0.pt', map_location=torch.device('cpu'))\n",
    "observations = torch.load('/Users/sammysharief/Downloads/samples/observations.pt', map_location=torch.device('cpu'))"
   ]
  },
  {
   "cell_type": "markdown",
   "id": "2c822246",
   "metadata": {},
   "source": [
    "# Load Data and Normalize"
   ]
  },
  {
   "cell_type": "code",
   "execution_count": null,
   "id": "5cb5c66e",
   "metadata": {},
   "outputs": [
    {
     "name": "stdout",
     "output_type": "stream",
     "text": [
      "Truth max: 1.0 and min: 0.0\n",
      "Posterior4 max: 0.8527698516845703 and min: -0.010756193660199642\n",
      "Posterior3 max: 0.771514356136322 and min: -0.006224202457815409\n",
      "Posterior2 max: 0.6889628767967224 and min: -0.0005897657829336822\n",
      "Posterior1 max: 1.0044115781784058 and min: -0.013637484982609749\n",
      "Posterior0 max: 1.038083791732788 and min: -2.8896414733026177e-05\n"
     ]
    }
   ],
   "source": [
    "curr_num_runs = 100\n",
    "\n",
    "x_obs = truth\n",
    "y_obs = observations\n",
    "post_samp0 = posterior0\n",
    "post_samp1 = posterior1\n",
    "post_samp2 = posterior2\n",
    "post_samp3 = posterior3\n",
    "\n",
    "# Find max and min for truth, posterior4, posterior3, posterior2, posterior1, posterior0, observations\n",
    "truth_max = torch.max(truth)\n",
    "truth_min = torch.min(truth)\n",
    "\n",
    "posterior4_max = torch.max(posterior4)\n",
    "posterior4_min = torch.min(posterior4)\n",
    "\n",
    "posterior3_max = torch.max(posterior3)\n",
    "posterior3_min = torch.min(posterior3)\n",
    "\n",
    "posterior2_max = torch.max(posterior2)\n",
    "posterior2_min = torch.min(posterior2)\n",
    "\n",
    "posterior1_max = torch.max(posterior1)\n",
    "posterior1_min = torch.min(posterior1)\n",
    "\n",
    "posterior0_max = torch.max(posterior0)\n",
    "posterior0_min = torch.min(posterior0)\n",
    "\n",
    "observations_max = torch.max(observations)\n",
    "observations_min = torch.min(observations)\n",
    "\n",
    "# Identify the max and min of all the data\n",
    "max_data = truth_max\n",
    "min_data = truth_min\n",
    "\n",
    "# Normalize the data based on max_data and min_data\n",
    "truth = (truth - min_data) / (max_data - min_data)\n",
    "posterior4 = (posterior4 - min_data) / (max_data - min_data + 1e-10)\n",
    "posterior3 = (posterior3 - min_data) / (max_data - min_data + 1e-10)\n",
    "posterior2 = (posterior2 - min_data) / (max_data - min_data + 1e-10)\n",
    "posterior1 = (posterior1 - min_data) / (max_data - min_data + 1e-10)\n",
    "posterior0 = (posterior0 - min_data) / (max_data - min_data + 1e-10)\n",
    "\n",
    "print(f'Truth max: {torch.max(truth)} and min: {torch.min(truth)}')\n",
    "print(f'Posterior4 max: {torch.max(posterior4)} and min: {torch.min(posterior4)}')\n",
    "print(f'Posterior3 max: {torch.max(posterior3)} and min: {torch.min(posterior3)}')\n",
    "print(f'Posterior2 max: {torch.max(posterior2)} and min: {torch.min(posterior2)}')\n",
    "print(f'Posterior1 max: {torch.max(posterior1)} and min: {torch.min(posterior1)}')\n",
    "print(f'Posterior0 max: {torch.max(posterior0)} and min: {torch.min(posterior0)}')\n",
    "\n",
    "# Reshape the Truth \n",
    "truth = truth.reshape(16, 64 * 64 * 3)\n",
    "\n",
    "# Reshape all posteriors from 16,3,64,64 to 16,64,3x64x64\n",
    "posterior3_reshape = posterior3.reshape(16, 64, 64 * 64 * 3)\n",
    "posterior2_reshape = posterior2.reshape(16, 64, 64 * 64 * 3)\n",
    "posterior1_reshape = posterior1.reshape(16, 64, 64 * 64 * 3)\n",
    "posterior0_reshape = posterior0.reshape(16, 64, 64 * 64 * 3)\n",
    "\n",
    "# Make truth, posterior0, posterior1, posterior2, posterior3, posterior4, observations into numpy arrays\n",
    "truth = truth.numpy()\n",
    "posterior3_reshape = posterior3_reshape.numpy()\n",
    "posterior2_reshape = posterior2_reshape.numpy()\n",
    "posterior1_reshape = posterior1_reshape.numpy()\n",
    "posterior0_reshape = posterior0_reshape.numpy()"
   ]
  },
  {
   "cell_type": "code",
   "execution_count": 5,
   "id": "64bac9c0",
   "metadata": {},
   "outputs": [
    {
     "name": "stdout",
     "output_type": "stream",
     "text": [
      "Using device: mps\n"
     ]
    },
    {
     "name": "stderr",
     "output_type": "stream",
     "text": [
      "/var/folders/jv/k_v96nss5g52chcq2phrbl240000gn/T/ipykernel_63380/2162387673.py:8: UserWarning: Creating a tensor from a list of numpy.ndarrays is extremely slow. Please consider converting the list to a single numpy.ndarray with numpy.array() before converting to a tensor. (Triggered internally at /Users/runner/work/_temp/anaconda/conda-bld/pytorch_1702400227158/work/torch/csrc/utils/tensor_new.cpp:264.)\n",
      "  posterior   = torch.tensor(posterior, dtype=torch.float32, device=device)\n",
      "Pokie MC runs: 100%|██████████| 100/100 [00:01<00:00, 77.87it/s]\n"
     ]
    },
    {
     "name": "stdout",
     "output_type": "stream",
     "text": [
      "\\Modes: [0. 1. 2. 3.]\n",
      "Pokie Probability: [0.61895585 0.2553129  0.0865976  0.03913368]\n",
      "Pokie Score: [0.6632617 0.5673438 0.5228418 0.5103223]\n"
     ]
    }
   ],
   "source": [
    "# Identify your device (CUDA > MPS > CPU)\n",
    "device = get_device()\n",
    "print(\"Using device:\", device)\n",
    "\n",
    "posterior = [posterior0_reshape, posterior1_reshape, posterior2_reshape, posterior3_reshape]\n",
    "\n",
    "# Convert to torch Tensors on the chosen device\n",
    "posterior   = torch.tensor(posterior, dtype=torch.float32, device=device)\n",
    "truth = torch.tensor(truth,   dtype=torch.float32, device=device)\n",
    "\n",
    "probability, quality, n_over_N_vals = pokie(\n",
    "    truth, posterior, num_runs=curr_num_runs\n",
    ")\n",
    "\n",
    "# Convert results, calibrated, n_over_N_vals back to numpy arrays\n",
    "probability = probability.cpu().numpy()\n",
    "quality = quality.cpu().numpy()\n",
    "n_over_N_vals = n_over_N_vals.cpu().numpy()\n",
    "\n",
    "l_values = np.linspace(0, len(probability) - 1, len(probability))\n",
    "l_values = np.array(l_values)\n",
    "\n",
    "print('\\Modes:', l_values)\n",
    "print(\"Pokie Probability:\", probability)\n",
    "print(\"Pokie Score:\", quality)"
   ]
  }
 ],
 "metadata": {
  "kernelspec": {
   "display_name": "tarp_project",
   "language": "python",
   "name": "python3"
  },
  "language_info": {
   "codemirror_mode": {
    "name": "ipython",
    "version": 3
   },
   "file_extension": ".py",
   "mimetype": "text/x-python",
   "name": "python",
   "nbconvert_exporter": "python",
   "pygments_lexer": "ipython3",
   "version": "3.9.18"
  }
 },
 "nbformat": 4,
 "nbformat_minor": 5
}
